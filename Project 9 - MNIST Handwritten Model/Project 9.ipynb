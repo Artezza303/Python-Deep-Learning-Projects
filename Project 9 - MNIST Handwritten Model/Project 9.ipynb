{
 "cells": [
  {
   "cell_type": "code",
   "execution_count": 58,
   "metadata": {},
   "outputs": [],
   "source": [
    "import numpy as np\n",
    "import tensorflow as tf\n",
    "import pandas as pd\n",
    "import numpy as np\n",
    "import matplotlib.pyplot as plt\n",
    "\n",
    "from tensorflow import keras\n",
    "from keras.datasets import mnist\n",
    "from tensorflow.keras import layers, models\n",
    "from keras.layers import Activation, Dense\n",
    "from keras.models import Sequential\n",
    "from tensorflow.keras.utils import to_categorical\n",
    "from sklearn.preprocessing import StandardScaler\n",
    "from sklearn.model_selection import train_test_split\n"
   ]
  },
  {
   "cell_type": "code",
   "execution_count": 59,
   "metadata": {},
   "outputs": [
    {
     "data": {
      "image/png": "[encoded data removed]",
      "text/plain": [
       "<Figure size 432x288 with 1 Axes>"
      ]
     },
     "metadata": {
      "needs_background": "light"
     },
     "output_type": "display_data"
    }
   ],
   "source": [
    "#load the number images dataset\n",
    "(x_train, y_train), (x_test, y_test) = keras.datasets.mnist.load_data()\n",
    "#display the first image in the training data\n",
    "plt.imshow(x_train[0,:,:],cmap='gray')\n",
    "plt.title('Ground Truth : {}'.format(y_train[0]))\n",
    "plt.show()"
   ]
  },
  {
   "cell_type": "code",
   "execution_count": 60,
   "metadata": {},
   "outputs": [],
   "source": [
    "#setting the shape of the data to a variable\n",
    "dimData = np.prod(x_train.shape[1:])\n",
    "\n",
    "# flatten data and scale\n",
    "x_train_scaled = x_train.reshape(60000, 784).astype(\"float32\") / 255\n",
    "x_test_scaled = x_test.reshape(10000, 784).astype(\"float32\") / 255"
   ]
  },
  {
   "cell_type": "code",
   "execution_count": 61,
   "metadata": {},
   "outputs": [],
   "source": [
    "# function to plot graph for variety of metrics from https://towardsdatascience.com/a-practical-introduction-to-early-stopping-in-machine-learning-550ac88bc8fd\n",
    "def plot_metric(history, metric):\n",
    "    train_metrics = history.history[metric]\n",
    "    val_metrics = history.history['val_'+metric]\n",
    "    epochs = range(1, len(train_metrics) + 1)\n",
    "    plt.plot(epochs, train_metrics)\n",
    "    plt.plot(epochs, val_metrics)\n",
    "    plt.title('Training and validation '+ metric)\n",
    "    plt.xlabel(\"Epochs\")\n",
    "    plt.ylabel(metric)\n",
    "    plt.legend([\"train_\"+metric, 'val_'+metric])\n",
    "    plt.show()"
   ]
  },
  {
   "cell_type": "markdown",
   "metadata": {},
   "source": [
    "##### categorical is for one hot encoded data\n",
    "##### sparse is for integer data\n",
    "##### so using the data with to_categorical made it one hot encoded and caused the error"
   ]
  },
  {
   "cell_type": "markdown",
   "metadata": {},
   "source": [
    "# 1.1"
   ]
  },
  {
   "cell_type": "code",
   "execution_count": 62,
   "metadata": {},
   "outputs": [
    {
     "name": "stdout",
     "output_type": "stream",
     "text": [
      "Epoch 1/20\n",
      "235/235 [==============================] - 1s 4ms/step - loss: 0.3747 - accuracy: 0.8858 - val_loss: 0.3397 - val_accuracy: 0.8921\n",
      "Epoch 2/20\n",
      "235/235 [==============================] - 1s 3ms/step - loss: 0.1676 - accuracy: 0.9485 - val_loss: 0.1656 - val_accuracy: 0.9446\n",
      "Epoch 3/20\n",
      "235/235 [==============================] - 1s 3ms/step - loss: 0.1075 - accuracy: 0.9668 - val_loss: 0.1164 - val_accuracy: 0.9637\n",
      "Epoch 4/20\n",
      "235/235 [==============================] - 1s 3ms/step - loss: 0.0804 - accuracy: 0.9745 - val_loss: 0.1165 - val_accuracy: 0.9650\n",
      "Epoch 5/20\n",
      "235/235 [==============================] - 1s 3ms/step - loss: 0.0631 - accuracy: 0.9800 - val_loss: 0.0878 - val_accuracy: 0.9720\n",
      "Epoch 6/20\n",
      "235/235 [==============================] - 1s 3ms/step - loss: 0.0500 - accuracy: 0.9831 - val_loss: 0.0962 - val_accuracy: 0.9718\n",
      "Epoch 7/20\n",
      "235/235 [==============================] - 1s 3ms/step - loss: 0.0418 - accuracy: 0.9861 - val_loss: 0.1148 - val_accuracy: 0.9681\n",
      "Epoch 8/20\n",
      "235/235 [==============================] - 1s 3ms/step - loss: 0.0342 - accuracy: 0.9890 - val_loss: 0.0920 - val_accuracy: 0.9749\n",
      "Epoch 9/20\n",
      "235/235 [==============================] - 1s 3ms/step - loss: 0.0289 - accuracy: 0.9903 - val_loss: 0.0850 - val_accuracy: 0.9758\n",
      "Epoch 10/20\n",
      "235/235 [==============================] - 1s 3ms/step - loss: 0.0245 - accuracy: 0.9923 - val_loss: 0.0990 - val_accuracy: 0.9758\n",
      "Epoch 11/20\n",
      "235/235 [==============================] - 1s 3ms/step - loss: 0.0204 - accuracy: 0.9931 - val_loss: 0.0759 - val_accuracy: 0.9814\n",
      "Epoch 12/20\n",
      "235/235 [==============================] - 1s 3ms/step - loss: 0.0172 - accuracy: 0.9941 - val_loss: 0.1794 - val_accuracy: 0.9524\n",
      "Epoch 13/20\n",
      "235/235 [==============================] - 1s 3ms/step - loss: 0.0153 - accuracy: 0.9946 - val_loss: 0.1052 - val_accuracy: 0.9743\n",
      "Epoch 14/20\n",
      "235/235 [==============================] - 1s 3ms/step - loss: 0.0134 - accuracy: 0.9956 - val_loss: 0.1179 - val_accuracy: 0.9746\n",
      "Epoch 15/20\n",
      "235/235 [==============================] - 1s 3ms/step - loss: 0.0116 - accuracy: 0.9963 - val_loss: 0.0863 - val_accuracy: 0.9823\n",
      "Epoch 16/20\n",
      "235/235 [==============================] - 1s 3ms/step - loss: 0.0115 - accuracy: 0.9960 - val_loss: 0.0895 - val_accuracy: 0.9808\n",
      "Epoch 17/20\n",
      "235/235 [==============================] - 1s 3ms/step - loss: 0.0100 - accuracy: 0.9968 - val_loss: 0.1039 - val_accuracy: 0.9779\n",
      "Epoch 18/20\n",
      "235/235 [==============================] - 1s 3ms/step - loss: 0.0096 - accuracy: 0.9970 - val_loss: 0.1126 - val_accuracy: 0.9801\n",
      "Epoch 19/20\n",
      "235/235 [==============================] - 1s 3ms/step - loss: 0.0071 - accuracy: 0.9975 - val_loss: 0.1061 - val_accuracy: 0.9821\n",
      "Epoch 20/20\n",
      "235/235 [==============================] - 1s 3ms/step - loss: 0.0085 - accuracy: 0.9972 - val_loss: 0.1008 - val_accuracy: 0.9815\n"
     ]
    }
   ],
   "source": [
    "# sequential model with elu activation\n",
    "\n",
    "#changing to relu or tanh had very little impact, the rund are too random \n",
    "model_scaled = Sequential()\n",
    "model_scaled.add(Dense(512, activation='elu', input_shape=(dimData,)))\n",
    "model_scaled.add(Dense(512, activation='elu'))\n",
    "model_scaled.add(Dense(10, activation='softmax'))\n",
    "\n",
    "model_scaled.compile(optimizer='rmsprop', loss='sparse_categorical_crossentropy', metrics=['accuracy'])\n",
    "\n",
    "#fitting the sequential scaled model\n",
    "with tf.device('/GPU:0'):\n",
    "    history = model_scaled.fit(x_train_scaled, y_train, batch_size=256, epochs=20, verbose=1, validation_data=(x_test_scaled, y_test))\n"
   ]
  },
  {
   "cell_type": "markdown",
   "metadata": {},
   "source": [
    "# 1.2"
   ]
  },
  {
   "cell_type": "code",
   "execution_count": 63,
   "metadata": {},
   "outputs": [
    {
     "data": {
      "image/png": "[encoded data removed]",
      "text/plain": [
       "<Figure size 432x288 with 1 Axes>"
      ]
     },
     "metadata": {
      "needs_background": "light"
     },
     "output_type": "display_data"
    }
   ],
   "source": [
    "#plotting loss\n",
    "plot_metric(history,'loss')"
   ]
  },
  {
   "cell_type": "code",
   "execution_count": 64,
   "metadata": {},
   "outputs": [
    {
     "data": {
      "image/png": "[encoded data removed]",
      "text/plain": [
       "<Figure size 432x288 with 1 Axes>"
      ]
     },
     "metadata": {
      "needs_background": "light"
     },
     "output_type": "display_data"
    }
   ],
   "source": [
    "#plotting accuracy\n",
    "plot_metric(history,'accuracy')"
   ]
  },
  {
   "cell_type": "markdown",
   "metadata": {},
   "source": [
    "# 1.3"
   ]
  },
  {
   "cell_type": "code",
   "execution_count": 65,
   "metadata": {},
   "outputs": [],
   "source": [
    "#saving the data without scaling\n",
    "x_train_no_scale = x_train.reshape(60000, 784).astype(\"float32\") \n",
    "x_test_no_scale = x_test.reshape(10000, 784).astype(\"float32\") "
   ]
  },
  {
   "cell_type": "code",
   "execution_count": 66,
   "metadata": {},
   "outputs": [
    {
     "name": "stdout",
     "output_type": "stream",
     "text": [
      "Epoch 1/20\n",
      "235/235 [==============================] - 1s 3ms/step - loss: 5.2142 - accuracy: 0.8834 - val_loss: 0.9366 - val_accuracy: 0.9194\n",
      "Epoch 2/20\n",
      "235/235 [==============================] - 1s 3ms/step - loss: 0.4563 - accuracy: 0.9456 - val_loss: 0.5461 - val_accuracy: 0.9260\n",
      "Epoch 3/20\n",
      "235/235 [==============================] - 1s 3ms/step - loss: 0.2868 - accuracy: 0.9579 - val_loss: 0.4312 - val_accuracy: 0.9482\n",
      "Epoch 4/20\n",
      "235/235 [==============================] - 1s 3ms/step - loss: 0.2206 - accuracy: 0.9662 - val_loss: 0.4229 - val_accuracy: 0.9572\n",
      "Epoch 5/20\n",
      "235/235 [==============================] - 1s 3ms/step - loss: 0.1986 - accuracy: 0.9720 - val_loss: 0.3525 - val_accuracy: 0.9531\n",
      "Epoch 6/20\n",
      "235/235 [==============================] - 1s 3ms/step - loss: 0.1718 - accuracy: 0.9761 - val_loss: 0.3941 - val_accuracy: 0.9660\n",
      "Epoch 7/20\n",
      "235/235 [==============================] - 1s 3ms/step - loss: 0.1552 - accuracy: 0.9799 - val_loss: 0.4918 - val_accuracy: 0.9572\n",
      "Epoch 8/20\n",
      "235/235 [==============================] - 1s 3ms/step - loss: 0.1607 - accuracy: 0.9815 - val_loss: 0.4221 - val_accuracy: 0.9679\n",
      "Epoch 9/20\n",
      "235/235 [==============================] - 1s 3ms/step - loss: 0.1440 - accuracy: 0.9834 - val_loss: 0.4145 - val_accuracy: 0.9723\n",
      "Epoch 10/20\n",
      "235/235 [==============================] - 1s 3ms/step - loss: 0.1520 - accuracy: 0.9846 - val_loss: 0.3949 - val_accuracy: 0.9687\n",
      "Epoch 11/20\n",
      "235/235 [==============================] - 1s 3ms/step - loss: 0.1516 - accuracy: 0.9856 - val_loss: 0.4296 - val_accuracy: 0.9727\n",
      "Epoch 12/20\n",
      "235/235 [==============================] - 1s 3ms/step - loss: 0.1402 - accuracy: 0.9872 - val_loss: 0.4035 - val_accuracy: 0.9752\n",
      "Epoch 13/20\n",
      "235/235 [==============================] - 1s 3ms/step - loss: 0.1120 - accuracy: 0.9893 - val_loss: 0.5980 - val_accuracy: 0.9697\n",
      "Epoch 14/20\n",
      "235/235 [==============================] - 1s 3ms/step - loss: 0.1242 - accuracy: 0.9891 - val_loss: 0.5728 - val_accuracy: 0.9736\n",
      "Epoch 15/20\n",
      "235/235 [==============================] - 1s 3ms/step - loss: 0.1199 - accuracy: 0.9891 - val_loss: 0.5845 - val_accuracy: 0.9735\n",
      "Epoch 16/20\n",
      "235/235 [==============================] - 1s 3ms/step - loss: 0.1170 - accuracy: 0.9905 - val_loss: 0.5302 - val_accuracy: 0.9773\n",
      "Epoch 17/20\n",
      "235/235 [==============================] - 1s 3ms/step - loss: 0.1188 - accuracy: 0.9912 - val_loss: 0.6420 - val_accuracy: 0.9753\n",
      "Epoch 18/20\n",
      "235/235 [==============================] - 1s 3ms/step - loss: 0.1173 - accuracy: 0.9919 - val_loss: 0.5402 - val_accuracy: 0.9799\n",
      "Epoch 19/20\n",
      "235/235 [==============================] - 1s 3ms/step - loss: 0.1075 - accuracy: 0.9922 - val_loss: 0.5854 - val_accuracy: 0.9785\n",
      "Epoch 20/20\n",
      "235/235 [==============================] - 1s 3ms/step - loss: 0.1247 - accuracy: 0.9917 - val_loss: 0.6464 - val_accuracy: 0.9766\n"
     ]
    }
   ],
   "source": [
    "#creating a sequential model without scaling with elu activation\n",
    "\n",
    "#compared to scaled model, validation accuracy is usually ~1% worse\n",
    "model_no_scale = Sequential()\n",
    "model_no_scale.add(Dense(512, activation='elu', input_shape=(dimData,)))\n",
    "model_no_scale.add(Dense(512, activation='elu'))\n",
    "model_no_scale.add(Dense(10, activation='softmax'))\n",
    "\n",
    "\n",
    "model_no_scale.compile(optimizer='rmsprop', loss='sparse_categorical_crossentropy', metrics=['accuracy'])\n",
    "\n",
    "#fitting the sequential non scaled model\n",
    "with tf.device('/GPU:0'):\n",
    "    history_no_scale = model_no_scale.fit(x_train_no_scale, y_train, batch_size=256, epochs=20, verbose=1, validation_data=(x_test_no_scale, y_test))"
   ]
  },
  {
   "cell_type": "markdown",
   "metadata": {},
   "source": [
    "# 1.4"
   ]
  },
  {
   "cell_type": "code",
   "execution_count": 67,
   "metadata": {},
   "outputs": [
    {
     "name": "stdout",
     "output_type": "stream",
     "text": [
      "Model: \"mnist_model\"\n",
      "_________________________________________________________________\n",
      " Layer (type)                Output Shape              Param #   \n",
      "=================================================================\n",
      " input_5 (InputLayer)        [(None, 784)]             0         \n",
      "                                                                 \n",
      " dense_42 (Dense)            (None, 512)               401920    \n",
      "                                                                 \n",
      " dense_43 (Dense)            (None, 512)               262656    \n",
      "                                                                 \n",
      " dense_44 (Dense)            (None, 10)                5130      \n",
      "                                                                 \n",
      "=================================================================\n",
      "Total params: 669,706\n",
      "Trainable params: 669,706\n",
      "Non-trainable params: 0\n",
      "_________________________________________________________________\n"
     ]
    }
   ],
   "source": [
    "#creating the same model but with functional api with relu activation\n",
    "\n",
    "#results are similar to the sequential model \n",
    "\n",
    "inputs = keras.Input(shape=(dimData,))\n",
    "dense = layers.Dense(512, activation=\"relu\")\n",
    "x = dense(inputs)\n",
    "x = layers.Dense(512, activation=\"relu\")(x)\n",
    "outputs = layers.Dense(10)(x)\n",
    "model_functional = keras.Model(inputs=inputs, outputs=outputs, name=\"mnist_model\")\n",
    "\n",
    "model_functional.compile(\n",
    "    loss=keras.losses.SparseCategoricalCrossentropy(from_logits=True),\n",
    "    optimizer=keras.optimizers.RMSprop(),\n",
    "    metrics=[\"accuracy\"]\n",
    ")\n",
    "\n",
    "\n",
    "model_functional.summary()"
   ]
  },
  {
   "cell_type": "code",
   "execution_count": 68,
   "metadata": {},
   "outputs": [
    {
     "name": "stdout",
     "output_type": "stream",
     "text": [
      "Epoch 1/20\n",
      "235/235 [==============================] - 1s 4ms/step - loss: 0.2714 - accuracy: 0.9163 - val_loss: 0.1819 - val_accuracy: 0.9439\n",
      "Epoch 2/20\n",
      "235/235 [==============================] - 1s 3ms/step - loss: 0.0929 - accuracy: 0.9716 - val_loss: 0.2488 - val_accuracy: 0.9264\n",
      "Epoch 3/20\n",
      "235/235 [==============================] - 1s 3ms/step - loss: 0.0584 - accuracy: 0.9821 - val_loss: 0.0817 - val_accuracy: 0.9751\n",
      "Epoch 4/20\n",
      "235/235 [==============================] - 1s 3ms/step - loss: 0.0402 - accuracy: 0.9874 - val_loss: 0.1041 - val_accuracy: 0.9699\n",
      "Epoch 5/20\n",
      "235/235 [==============================] - 1s 3ms/step - loss: 0.0288 - accuracy: 0.9910 - val_loss: 0.0608 - val_accuracy: 0.9818\n",
      "Epoch 6/20\n",
      "235/235 [==============================] - 1s 3ms/step - loss: 0.0211 - accuracy: 0.9933 - val_loss: 0.0836 - val_accuracy: 0.9764\n",
      "Epoch 7/20\n",
      "235/235 [==============================] - 1s 3ms/step - loss: 0.0178 - accuracy: 0.9941 - val_loss: 0.0790 - val_accuracy: 0.9811\n",
      "Epoch 8/20\n",
      "235/235 [==============================] - 1s 3ms/step - loss: 0.0130 - accuracy: 0.9955 - val_loss: 0.0806 - val_accuracy: 0.9829\n",
      "Epoch 9/20\n",
      "235/235 [==============================] - 1s 3ms/step - loss: 0.0104 - accuracy: 0.9965 - val_loss: 0.0987 - val_accuracy: 0.9784\n",
      "Epoch 10/20\n",
      "235/235 [==============================] - 1s 3ms/step - loss: 0.0088 - accuracy: 0.9972 - val_loss: 0.1054 - val_accuracy: 0.9802\n",
      "Epoch 11/20\n",
      "235/235 [==============================] - 1s 3ms/step - loss: 0.0071 - accuracy: 0.9976 - val_loss: 0.1111 - val_accuracy: 0.9798\n",
      "Epoch 12/20\n",
      "235/235 [==============================] - 1s 3ms/step - loss: 0.0073 - accuracy: 0.9976 - val_loss: 0.1099 - val_accuracy: 0.9795\n",
      "Epoch 13/20\n",
      "235/235 [==============================] - 1s 3ms/step - loss: 0.0066 - accuracy: 0.9980 - val_loss: 0.1056 - val_accuracy: 0.9833\n",
      "Epoch 14/20\n",
      "235/235 [==============================] - 1s 3ms/step - loss: 0.0055 - accuracy: 0.9982 - val_loss: 0.1339 - val_accuracy: 0.9793\n",
      "Epoch 15/20\n",
      "235/235 [==============================] - 1s 3ms/step - loss: 0.0052 - accuracy: 0.9982 - val_loss: 0.1225 - val_accuracy: 0.9813\n",
      "Epoch 16/20\n",
      "235/235 [==============================] - 1s 3ms/step - loss: 0.0052 - accuracy: 0.9983 - val_loss: 0.1392 - val_accuracy: 0.9798\n",
      "Epoch 17/20\n",
      "235/235 [==============================] - 1s 3ms/step - loss: 0.0042 - accuracy: 0.9987 - val_loss: 0.1264 - val_accuracy: 0.9827\n",
      "Epoch 18/20\n",
      "235/235 [==============================] - 1s 3ms/step - loss: 0.0047 - accuracy: 0.9986 - val_loss: 0.1188 - val_accuracy: 0.9843\n",
      "Epoch 19/20\n",
      "235/235 [==============================] - 1s 3ms/step - loss: 0.0039 - accuracy: 0.9990 - val_loss: 0.1391 - val_accuracy: 0.9825\n",
      "Epoch 20/20\n",
      "235/235 [==============================] - 1s 3ms/step - loss: 0.0033 - accuracy: 0.9991 - val_loss: 0.1521 - val_accuracy: 0.9817\n"
     ]
    }
   ],
   "source": [
    "#fitting the functional model with scaled data\n",
    "with tf.device('/GPU:0'):\n",
    "    history_func = model_functional.fit(x_train_scaled, y_train, batch_size=256, epochs=20, verbose=1,validation_data=(x_test_scaled, y_test))"
   ]
  },
  {
   "cell_type": "code",
   "execution_count": 69,
   "metadata": {},
   "outputs": [],
   "source": [
    "#setting an index value\n",
    "value = 4"
   ]
  },
  {
   "cell_type": "markdown",
   "metadata": {},
   "source": [
    "# 1.5"
   ]
  },
  {
   "cell_type": "code",
   "execution_count": 70,
   "metadata": {},
   "outputs": [
    {
     "data": {
      "text/plain": [
       "<matplotlib.image.AxesImage at 0x2d95e1d6d30>"
      ]
     },
     "execution_count": 70,
     "metadata": {},
     "output_type": "execute_result"
    },
    {
     "data": {
      "image/png": "[encoded data removed]",
      "text/plain": [
       "<Figure size 432x288 with 1 Axes>"
      ]
     },
     "metadata": {
      "needs_background": "light"
     },
     "output_type": "display_data"
    }
   ],
   "source": [
    "#printing the image at the index\n",
    "plt.imshow(x_test[value],cmap='gray')"
   ]
  },
  {
   "cell_type": "code",
   "execution_count": 71,
   "metadata": {},
   "outputs": [
    {
     "name": "stdout",
     "output_type": "stream",
     "text": [
      "max:  4\n",
      "pred:  [-24.270279  -23.793074  -24.940802  -36.21257    18.849012  -28.948935\n",
      " -20.743755  -10.648095  -25.43299    -4.0831347]\n"
     ]
    }
   ],
   "source": [
    "#running the predction function\n",
    "y_pred = model_functional.predict(x_test_scaled)\n",
    "\n",
    "#printing the prediction at the index and using argmax to print out the highest predicted value of the output to get result\n",
    "print(\"max: \",np.argmax(y_pred[value]))\n",
    "print(\"pred: \",y_pred[value])"
   ]
  }
 ],
 "metadata": {
  "interpreter": {
   "hash": "435d0e8858e95bf99d49c65e9620e6ce1bbece1b398b9a76f5562c3dd3ad096e"
  },
  "kernelspec": {
   "display_name": "Python 3.9.0 64-bit",
   "language": "python",
   "name": "python3"
  },
  "language_info": {
   "codemirror_mode": {
    "name": "ipython",
    "version": 3
   },
   "file_extension": ".py",
   "mimetype": "text/x-python",
   "name": "python",
   "nbconvert_exporter": "python",
   "pygments_lexer": "ipython3",
   "version": "3.9.0"
  },
  "orig_nbformat": 4
 },
 "nbformat": 4,
 "nbformat_minor": 2
}
